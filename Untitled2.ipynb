{
  "nbformat": 4,
  "nbformat_minor": 0,
  "metadata": {
    "colab": {
      "provenance": [],
      "authorship_tag": "ABX9TyPsmzaPjhfC8MSNMX78VuOo",
      "include_colab_link": true
    },
    "kernelspec": {
      "name": "python3",
      "display_name": "Python 3"
    },
    "language_info": {
      "name": "python"
    }
  },
  "cells": [
    {
      "cell_type": "markdown",
      "metadata": {
        "id": "view-in-github",
        "colab_type": "text"
      },
      "source": [
        "<a href=\"https://colab.research.google.com/github/zombig816/numpy/blob/main/Untitled2.ipynb\" target=\"_parent\"><img src=\"https://colab.research.google.com/assets/colab-badge.svg\" alt=\"Open In Colab\"/></a>"
      ]
    },
    {
      "cell_type": "markdown",
      "source": [
        "Numpy для любителей Broadcasting. Решения задач"
      ],
      "metadata": {
        "id": "RwVNoDxtZylS"
      }
    },
    {
      "cell_type": "markdown",
      "source": [
        "1) Создать массив из 10 случайных целых чисел от 1 до 100."
      ],
      "metadata": {
        "id": "pOr4TBDAZ6Gl"
      }
    },
    {
      "cell_type": "code",
      "execution_count": 1,
      "metadata": {
        "colab": {
          "base_uri": "https://localhost:8080/"
        },
        "id": "o0_NUmQPW7_e",
        "outputId": "efb8b9fc-8593-469e-a54c-8fab99b59e90"
      },
      "outputs": [
        {
          "output_type": "stream",
          "name": "stdout",
          "text": [
            "1\n",
            " [35 77 50 13 44 32 20 59 69 91]\n"
          ]
        }
      ],
      "source": [
        "import numpy as np\n",
        "\n",
        "a = np.random.randint(1, 100, 10)\n",
        "print(\"1\\n\", a)\n"
      ]
    },
    {
      "cell_type": "markdown",
      "source": [
        "2) Создать двумерный массив размером 3x3, заполненный нулями."
      ],
      "metadata": {
        "id": "HN1dd8GFZwDL"
      }
    },
    {
      "cell_type": "code",
      "source": [
        "a = np.zeros((3,3))\n",
        "print(\"2\\n\", a)"
      ],
      "metadata": {
        "colab": {
          "base_uri": "https://localhost:8080/"
        },
        "id": "c28DjBZMaC-g",
        "outputId": "fcb0fb6b-6cb3-430b-f65d-f9b321ad6a66"
      },
      "execution_count": 4,
      "outputs": [
        {
          "output_type": "stream",
          "name": "stdout",
          "text": [
            "2\n",
            " [[0. 0. 0.]\n",
            " [0. 0. 0.]\n",
            " [0. 0. 0.]]\n"
          ]
        }
      ]
    },
    {
      "cell_type": "markdown",
      "source": [
        "3) Создать массив из 20 равномерно распределенных чисел между 0 и 1.\n",
        "(в моем решении массив состоит из 20 равномерно распределенных чисел из нормального распределения со средним 0 и стандартным отклонением 1)"
      ],
      "metadata": {
        "id": "7zKes75FaJqW"
      }
    },
    {
      "cell_type": "code",
      "source": [
        "a = np.random.normal(0, 1, 20)\n",
        "print(a)"
      ],
      "metadata": {
        "colab": {
          "base_uri": "https://localhost:8080/"
        },
        "id": "n5eOV3flaNw8",
        "outputId": "da4611ad-3f21-4964-d8a1-b139cfed6026"
      },
      "execution_count": 5,
      "outputs": [
        {
          "output_type": "stream",
          "name": "stdout",
          "text": [
            "[-0.3406783   0.36249675 -0.37301309 -1.0338371  -1.75150542  1.58282183\n",
            "  0.8671426   0.47282197  0.41046562 -0.0062399   0.71155855 -1.10650326\n",
            " -1.55058092 -0.29913208 -0.95082628 -1.11922115 -0.28118119 -0.4327308\n",
            " -0.03923636  0.42611428]\n"
          ]
        }
      ]
    },
    {
      "cell_type": "markdown",
      "source": [
        "4) Создать массив из первых 10 натуральных чисел и преобразовать его в двумерный массив размером 2x5."
      ],
      "metadata": {
        "id": "b9C692Budseg"
      }
    },
    {
      "cell_type": "code",
      "source": [
        "a = np.arange(1, 11, 1).reshape((2, 5))\n",
        "print(a)"
      ],
      "metadata": {
        "colab": {
          "base_uri": "https://localhost:8080/"
        },
        "id": "cr_xSAMNeVzE",
        "outputId": "87ec41b5-248e-4316-8db6-5cc35a38764a"
      },
      "execution_count": 6,
      "outputs": [
        {
          "output_type": "stream",
          "name": "stdout",
          "text": [
            "[[ 1  2  3  4  5]\n",
            " [ 6  7  8  9 10]]\n"
          ]
        }
      ]
    },
    {
      "cell_type": "markdown",
      "source": [
        "5) Найти среднее значение элементов массива.\n"
      ],
      "metadata": {
        "id": "nPKQPHtxeoJ3"
      }
    },
    {
      "cell_type": "code",
      "source": [
        "mean = np.mean(a)\n",
        "\n",
        "print(mean)"
      ],
      "metadata": {
        "colab": {
          "base_uri": "https://localhost:8080/"
        },
        "id": "3Y4izACNeq0H",
        "outputId": "43789faf-81d3-470c-a1e1-78a449f11aa3"
      },
      "execution_count": 7,
      "outputs": [
        {
          "output_type": "stream",
          "name": "stdout",
          "text": [
            "5.5\n"
          ]
        }
      ]
    },
    {
      "cell_type": "markdown",
      "source": [
        "6) Найти сумму элементов массива"
      ],
      "metadata": {
        "id": "hUVLfH-AfDuo"
      }
    },
    {
      "cell_type": "code",
      "source": [
        "sum_a = np.sum(a)\n",
        "\n",
        "print(sum_a)"
      ],
      "metadata": {
        "colab": {
          "base_uri": "https://localhost:8080/"
        },
        "id": "otzijQbcfH2Y",
        "outputId": "2cd41c5e-46b7-4a73-e22f-10cd0aeb91d5"
      },
      "execution_count": 8,
      "outputs": [
        {
          "output_type": "stream",
          "name": "stdout",
          "text": [
            "55\n"
          ]
        }
      ]
    },
    {
      "cell_type": "markdown",
      "source": [
        "7) Умножить каждый элемент массива на 2."
      ],
      "metadata": {
        "id": "3HCSOB__fMg_"
      }
    },
    {
      "cell_type": "code",
      "source": [
        "print(a * 2)"
      ],
      "metadata": {
        "colab": {
          "base_uri": "https://localhost:8080/"
        },
        "id": "jVQEkIAefPkU",
        "outputId": "0eeb2381-d717-4fe1-95cc-87f737422f6c"
      },
      "execution_count": 9,
      "outputs": [
        {
          "output_type": "stream",
          "name": "stdout",
          "text": [
            "[[ 2  4  6  8 10]\n",
            " [12 14 16 18 20]]\n"
          ]
        }
      ]
    },
    {
      "cell_type": "markdown",
      "source": [
        "8) Создать массив из чисел от 1 до 10 и преобразовать его в двумерный массив размером 5x2."
      ],
      "metadata": {
        "id": "fRqgwAi-fS9a"
      }
    },
    {
      "cell_type": "code",
      "source": [
        "a = np.arange(1, 11).reshape((5, 2))\n",
        "print(a)"
      ],
      "metadata": {
        "colab": {
          "base_uri": "https://localhost:8080/"
        },
        "id": "hW4X_R1BfSqA",
        "outputId": "fa7c531f-17f1-4cdf-9312-7ebd8c65b835"
      },
      "execution_count": 10,
      "outputs": [
        {
          "output_type": "stream",
          "name": "stdout",
          "text": [
            "[[ 1  2]\n",
            " [ 3  4]\n",
            " [ 5  6]\n",
            " [ 7  8]\n",
            " [ 9 10]]\n"
          ]
        }
      ]
    },
    {
      "cell_type": "markdown",
      "source": [
        "9) Найти минимальное значение в массиве."
      ],
      "metadata": {
        "id": "KLE4kngqlRUC"
      }
    },
    {
      "cell_type": "code",
      "source": [
        "min_a = np.min(a)\n",
        "\n",
        "print(min_a)"
      ],
      "metadata": {
        "colab": {
          "base_uri": "https://localhost:8080/"
        },
        "id": "Sm7JR7eqlUON",
        "outputId": "3ee34b49-d59b-47d5-b782-3a2f8c0808f2"
      },
      "execution_count": 11,
      "outputs": [
        {
          "output_type": "stream",
          "name": "stdout",
          "text": [
            "1\n"
          ]
        }
      ]
    },
    {
      "cell_type": "markdown",
      "source": [
        "10) Найти максимальное значение в массиве."
      ],
      "metadata": {
        "id": "eAw8mMZqlW5y"
      }
    },
    {
      "cell_type": "code",
      "source": [
        "max_a = np.max(a)\n",
        "\n",
        "print(max_a)"
      ],
      "metadata": {
        "colab": {
          "base_uri": "https://localhost:8080/"
        },
        "id": "9ZuS2cQjlZYX",
        "outputId": "e8d55e15-44f2-4f2d-e68d-4e17082ddba5"
      },
      "execution_count": 12,
      "outputs": [
        {
          "output_type": "stream",
          "name": "stdout",
          "text": [
            "10\n"
          ]
        }
      ]
    },
    {
      "cell_type": "markdown",
      "source": [
        "11) Создать массив из 15 случайных чисел, отсортировать его по возрастанию."
      ],
      "metadata": {
        "id": "03DIGYzYlhDe"
      }
    },
    {
      "cell_type": "code",
      "source": [
        "a = np.random.rand(15)\n",
        "print(a)"
      ],
      "metadata": {
        "colab": {
          "base_uri": "https://localhost:8080/"
        },
        "id": "p-oGp8Z7ljDI",
        "outputId": "ba37556b-2b7e-4e50-cea1-0fb87653e945"
      },
      "execution_count": 13,
      "outputs": [
        {
          "output_type": "stream",
          "name": "stdout",
          "text": [
            "[0.23502375 0.99994917 0.59488885 0.01925022 0.35115069 0.65049731\n",
            " 0.14748079 0.90011489 0.59228966 0.5569569  0.0716474  0.15308832\n",
            " 0.8410268  0.79845086 0.42866828]\n"
          ]
        }
      ]
    },
    {
      "cell_type": "markdown",
      "source": [
        "12) Создать массив из чисел от 1 до 12 и преобразовать его в трехмерный массив размером 2x2x3."
      ],
      "metadata": {
        "id": "87WPgyTkl7A6"
      }
    },
    {
      "cell_type": "code",
      "source": [
        "a = np.arange(1,13).reshape((2,2,3))\n",
        "print(a)"
      ],
      "metadata": {
        "colab": {
          "base_uri": "https://localhost:8080/"
        },
        "id": "gDLt50n4l9Fk",
        "outputId": "04f4bbe8-d540-45ee-ce63-75b34beace94"
      },
      "execution_count": 14,
      "outputs": [
        {
          "output_type": "stream",
          "name": "stdout",
          "text": [
            "[[[ 1  2  3]\n",
            "  [ 4  5  6]]\n",
            "\n",
            " [[ 7  8  9]\n",
            "  [10 11 12]]]\n"
          ]
        }
      ]
    },
    {
      "cell_type": "markdown",
      "source": [
        "13) Перемножить два массива размером 2x3 и 3x2.\n"
      ],
      "metadata": {
        "id": "rwtPaHwSmIHe"
      }
    },
    {
      "cell_type": "code",
      "source": [
        "a = np.arange(1,7).reshape((2,3))\n",
        "print(a)\n",
        "b = np.arange(1,7).reshape((3,2))\n",
        "print(b)\n",
        "print(a @ b)\n"
      ],
      "metadata": {
        "colab": {
          "base_uri": "https://localhost:8080/"
        },
        "id": "hRvw_RAmmLxv",
        "outputId": "f47619c4-58e8-4a51-e72d-9f96230dca08"
      },
      "execution_count": 15,
      "outputs": [
        {
          "output_type": "stream",
          "name": "stdout",
          "text": [
            "[[1 2 3]\n",
            " [4 5 6]]\n",
            "[[1 2]\n",
            " [3 4]\n",
            " [5 6]]\n",
            "[[22 28]\n",
            " [49 64]]\n"
          ]
        }
      ]
    },
    {
      "cell_type": "markdown",
      "source": [
        "14) Транспонировать двумерный массив."
      ],
      "metadata": {
        "id": "Iim_Y5I9nIf-"
      }
    },
    {
      "cell_type": "code",
      "source": [
        "print(a.T)"
      ],
      "metadata": {
        "colab": {
          "base_uri": "https://localhost:8080/"
        },
        "id": "PPufcla0nK7N",
        "outputId": "0f17ae5a-7b5a-40a2-9dca-3b4dbdef432c"
      },
      "execution_count": 16,
      "outputs": [
        {
          "output_type": "stream",
          "name": "stdout",
          "text": [
            "[[1 4]\n",
            " [2 5]\n",
            " [3 6]]\n"
          ]
        }
      ]
    },
    {
      "cell_type": "markdown",
      "source": [
        "15) Найти скалярное произведение двух массивов."
      ],
      "metadata": {
        "id": "TfXu4cRtnhDj"
      }
    },
    {
      "cell_type": "code",
      "source": [
        "a = np.arange(10)\n",
        "b = np.arange(10)\n",
        "print(a @ b)"
      ],
      "metadata": {
        "colab": {
          "base_uri": "https://localhost:8080/"
        },
        "id": "sSO02g3CnjN7",
        "outputId": "9f6785c5-20b6-4ea8-bb73-ef0ea2dd385a"
      },
      "execution_count": 17,
      "outputs": [
        {
          "output_type": "stream",
          "name": "stdout",
          "text": [
            "285\n"
          ]
        }
      ]
    },
    {
      "cell_type": "markdown",
      "source": [
        "16) Создать массив из чисел от 1 до 20 и заменить все четные числа на 0.\n"
      ],
      "metadata": {
        "id": "_kxlQeuIn_PR"
      }
    },
    {
      "cell_type": "code",
      "source": [
        "a = np.arange(21)\n",
        "a[ a % 2 == 0 ] = 0\n",
        "print(a)"
      ],
      "metadata": {
        "colab": {
          "base_uri": "https://localhost:8080/"
        },
        "id": "b6ZJB2W9oCrB",
        "outputId": "49817905-7620-46d2-b9d0-ea121efa2bea"
      },
      "execution_count": 22,
      "outputs": [
        {
          "output_type": "stream",
          "name": "stdout",
          "text": [
            "[ 0  1  0  3  0  5  0  7  0  9  0 11  0 13  0 15  0 17  0 19  0]\n"
          ]
        }
      ]
    },
    {
      "cell_type": "markdown",
      "source": [
        "17) Найти индексы ненулевых элементов массива."
      ],
      "metadata": {
        "id": "Jq-44PFeorFq"
      }
    },
    {
      "cell_type": "code",
      "source": [
        "print(np.where( a != 0 ))"
      ],
      "metadata": {
        "colab": {
          "base_uri": "https://localhost:8080/"
        },
        "id": "kDjpLc-poCKW",
        "outputId": "75711db0-0bb8-4420-e4b1-29e4c79e94ed"
      },
      "execution_count": 23,
      "outputs": [
        {
          "output_type": "stream",
          "name": "stdout",
          "text": [
            "(array([ 1,  3,  5,  7,  9, 11, 13, 15, 17, 19]),)\n"
          ]
        }
      ]
    },
    {
      "cell_type": "markdown",
      "source": [
        "18) Вычислить синус каждого элемента массива.\n"
      ],
      "metadata": {
        "id": "Dp6zw4oUtC2r"
      }
    },
    {
      "cell_type": "code",
      "source": [
        "print(np.sin(a))"
      ],
      "metadata": {
        "colab": {
          "base_uri": "https://localhost:8080/"
        },
        "id": "54QKrfyctE2C",
        "outputId": "678f4dec-2acf-4244-ca26-65d1d17edecc"
      },
      "execution_count": 24,
      "outputs": [
        {
          "output_type": "stream",
          "name": "stdout",
          "text": [
            "[ 0.          0.84147098  0.          0.14112001  0.         -0.95892427\n",
            "  0.          0.6569866   0.          0.41211849  0.         -0.99999021\n",
            "  0.          0.42016704  0.          0.65028784  0.         -0.96139749\n",
            "  0.          0.14987721  0.        ]\n"
          ]
        }
      ]
    },
    {
      "cell_type": "markdown",
      "source": [
        "19) Вычислить среднее значение по столбцам двумерного массива."
      ],
      "metadata": {
        "id": "HQZbuaCutmc9"
      }
    },
    {
      "cell_type": "code",
      "source": [
        "a = np.arange(10).reshape((2,5))\n",
        "print(a)\n",
        "arr_of_means = np.mean(a, axis=0)\n",
        "print(arr_of_means)"
      ],
      "metadata": {
        "colab": {
          "base_uri": "https://localhost:8080/"
        },
        "id": "Pye3cU4Itl7q",
        "outputId": "9420e9ae-c87d-45f5-e480-5ef4c25a475e"
      },
      "execution_count": 27,
      "outputs": [
        {
          "output_type": "stream",
          "name": "stdout",
          "text": [
            "[[0 1 2 3 4]\n",
            " [5 6 7 8 9]]\n",
            "[2.5 3.5 4.5 5.5 6.5]\n"
          ]
        }
      ]
    },
    {
      "cell_type": "markdown",
      "source": [
        "20) Найти сумму диагональных элементов квадратной матрицы.\n"
      ],
      "metadata": {
        "id": "X6ar2_rPw6kC"
      }
    },
    {
      "cell_type": "code",
      "source": [
        "a = np.arange(9).reshape(3, 3)\n",
        "print(a)\n",
        "trace = np.trace(a)\n",
        "print(trace)"
      ],
      "metadata": {
        "colab": {
          "base_uri": "https://localhost:8080/"
        },
        "id": "nCfJR4xSw98i",
        "outputId": "9ac91349-943d-43f4-9677-afc8a1c48b3e"
      },
      "execution_count": 28,
      "outputs": [
        {
          "output_type": "stream",
          "name": "stdout",
          "text": [
            "[[0 1 2]\n",
            " [3 4 5]\n",
            " [6 7 8]]\n",
            "12\n"
          ]
        }
      ]
    },
    {
      "cell_type": "markdown",
      "source": [
        "21) Создать массив из 25 случайных чисел и найти 5-й персентиль.\n"
      ],
      "metadata": {
        "id": "H6i1A_wvxj_2"
      }
    },
    {
      "cell_type": "code",
      "source": [
        "a = np.random.randint(0, 100, 25)\n",
        "print(a)\n",
        "percentile_50 = np.percentile(a, 50)\n",
        "print(percentile_50)"
      ],
      "metadata": {
        "colab": {
          "base_uri": "https://localhost:8080/"
        },
        "id": "2_9scg5Mxmvq",
        "outputId": "6fb71f76-6adc-494c-881f-5a596de55d24"
      },
      "execution_count": 29,
      "outputs": [
        {
          "output_type": "stream",
          "name": "stdout",
          "text": [
            "[99 89 77 93 25 99 68 71  1 93 51 31 96 60 28 48 22 60 23 50 58 29 69  2\n",
            "  3]\n",
            "58.0\n"
          ]
        }
      ]
    },
    {
      "cell_type": "markdown",
      "source": [
        "22) Найти обратную матрицу для заданной.\n"
      ],
      "metadata": {
        "id": "FnAK1nHyyYSF"
      }
    },
    {
      "cell_type": "code",
      "source": [
        "a = np.random.randint(0, 10, 9).reshape(3, 3)\n",
        "print(a)\n",
        "a_inv = np.linalg.inv(a)\n",
        "print(a_inv)"
      ],
      "metadata": {
        "colab": {
          "base_uri": "https://localhost:8080/"
        },
        "id": "FAXJYpVjyatO",
        "outputId": "295718c5-7ca8-4983-98e9-da172c45276f"
      },
      "execution_count": 30,
      "outputs": [
        {
          "output_type": "stream",
          "name": "stdout",
          "text": [
            "[[0 4 9]\n",
            " [3 7 3]\n",
            " [7 2 4]]\n",
            "[[-0.06267806 -0.00569801  0.14529915]\n",
            " [-0.02564103  0.17948718 -0.07692308]\n",
            " [ 0.12250712 -0.07977208  0.03418803]]\n"
          ]
        }
      ]
    },
    {
      "cell_type": "markdown",
      "source": [
        "23) Разбить массив на несколько более мелких массивов заданного размера."
      ],
      "metadata": {
        "id": "mBHYPOSXzlpS"
      }
    },
    {
      "cell_type": "code",
      "source": [
        "# разбиваем на столбцы\n",
        "[a1,a2,a3] = np.hsplit(a, 3)\n",
        "print(a1, \"\\n\")\n",
        "print(a2, \"\\n\")\n",
        "print(a3, \"\\n\\n\")\n",
        "\n",
        "# разбиваем на строки\n",
        "[a1,a2,a3] = np.vsplit(a, 3)\n",
        "print(a1, \"\\n\")\n",
        "print(a2, \"\\n\")\n",
        "print(a3, \"\\n\\n\")"
      ],
      "metadata": {
        "colab": {
          "base_uri": "https://localhost:8080/"
        },
        "id": "6y9-ujbEznq7",
        "outputId": "4805bc63-b5e1-451b-9eb9-956d122d1093"
      },
      "execution_count": 31,
      "outputs": [
        {
          "output_type": "stream",
          "name": "stdout",
          "text": [
            "[[0]\n",
            " [3]\n",
            " [7]] \n",
            "\n",
            "[[4]\n",
            " [7]\n",
            " [2]] \n",
            "\n",
            "[[9]\n",
            " [3]\n",
            " [4]] \n",
            "\n",
            "\n",
            "[[0 4 9]] \n",
            "\n",
            "[[3 7 3]] \n",
            "\n",
            "[[7 2 4]] \n",
            "\n",
            "\n"
          ]
        }
      ]
    },
    {
      "cell_type": "markdown",
      "source": [
        "24) Найти самое часто встречающееся значение в массиве.\n"
      ],
      "metadata": {
        "id": "Bvn6YVjz0067"
      }
    },
    {
      "cell_type": "code",
      "source": [
        "# приводим двумерный массив к одномерному\n",
        "a = np.ravel(a)\n",
        "counts = np.bincount(a)\n",
        "print(np.argmax(counts))\n",
        "# либо через метод mode() из библиотеки scipy.stats"
      ],
      "metadata": {
        "colab": {
          "base_uri": "https://localhost:8080/"
        },
        "id": "1thNAfTL03RX",
        "outputId": "26d398cc-9d82-46c7-a5ca-07ab04ac048a"
      },
      "execution_count": null,
      "outputs": [
        {
          "output_type": "stream",
          "name": "stdout",
          "text": [
            "2\n"
          ]
        }
      ]
    },
    {
      "cell_type": "markdown",
      "source": [
        "25) Создать массив, содержащий значения функции e^x для значений x от 1 до 5."
      ],
      "metadata": {
        "id": "1gaEfOvf2qHD"
      }
    },
    {
      "cell_type": "code",
      "source": [
        "a = np.exp(np.arange(1,6))\n",
        "print(a)"
      ],
      "metadata": {
        "colab": {
          "base_uri": "https://localhost:8080/"
        },
        "id": "7nU4VFMB2vDY",
        "outputId": "4d256f94-388b-4d64-913f-0e98f2fe3f49"
      },
      "execution_count": 33,
      "outputs": [
        {
          "output_type": "stream",
          "name": "stdout",
          "text": [
            "[  2.71828183   7.3890561   20.08553692  54.59815003 148.4131591 ]\n"
          ]
        }
      ]
    },
    {
      "cell_type": "markdown",
      "source": [
        "26) Найти среднее квадратичное отклонение элементов массива.\n"
      ],
      "metadata": {
        "id": "vPW6gJaSD_Ev"
      }
    },
    {
      "cell_type": "code",
      "source": [
        "std_deviation = np.std(a)\n",
        "print(std_deviation)"
      ],
      "metadata": {
        "colab": {
          "base_uri": "https://localhost:8080/"
        },
        "id": "m5G_fdx2ECPr",
        "outputId": "13de81fb-a4a4-40b5-c668-cd5819c91dbd"
      },
      "execution_count": 34,
      "outputs": [
        {
          "output_type": "stream",
          "name": "stdout",
          "text": [
            "54.02962427359681\n"
          ]
        }
      ]
    },
    {
      "cell_type": "markdown",
      "source": [
        "27) Вычислить сумму по строкам двумерного массива.\n"
      ],
      "metadata": {
        "id": "dVcWpYlMFusf"
      }
    },
    {
      "cell_type": "code",
      "source": [
        "a = np.arange(1,11,1).reshape(2,5)\n",
        "print(a)\n",
        "sum_str = np.sum(a, axis=1)\n",
        "print(sum_str)"
      ],
      "metadata": {
        "colab": {
          "base_uri": "https://localhost:8080/"
        },
        "id": "NuE_zDuHFyY6",
        "outputId": "2f4a2729-2799-4250-c6b0-02a4c159d4ff"
      },
      "execution_count": 38,
      "outputs": [
        {
          "output_type": "stream",
          "name": "stdout",
          "text": [
            "[[ 1  2  3  4  5]\n",
            " [ 6  7  8  9 10]]\n",
            "[15 40]\n"
          ]
        }
      ]
    },
    {
      "cell_type": "markdown",
      "source": [
        "28) Найти наибольший общий делитель для элементов массива."
      ],
      "metadata": {
        "id": "xDrGNkwNGklK"
      }
    },
    {
      "cell_type": "code",
      "source": [
        "a = np.ravel(a)\n",
        "print(np.gcd.reduce(a))"
      ],
      "metadata": {
        "colab": {
          "base_uri": "https://localhost:8080/"
        },
        "id": "b3UYa8gwGI_Y",
        "outputId": "df22e300-df71-4e8b-afec-43c3918066f5"
      },
      "execution_count": 42,
      "outputs": [
        {
          "output_type": "stream",
          "name": "stdout",
          "text": [
            "1\n"
          ]
        }
      ]
    },
    {
      "cell_type": "markdown",
      "source": [
        "29) Создать массив, содержащий 10 равномерно распределенных значений в логарифмическом масштабе от 1 до 1000."
      ],
      "metadata": {
        "id": "QM4v0NQyIvF3"
      }
    },
    {
      "cell_type": "code",
      "source": [
        "# 1, 3 - степени числа 10\n",
        "a = np.logspace(1, 3, 10)\n",
        "print(a)"
      ],
      "metadata": {
        "colab": {
          "base_uri": "https://localhost:8080/"
        },
        "id": "HkA6xIUBIxHx",
        "outputId": "8e37f015-1999-4da0-cbdb-0b920246b477"
      },
      "execution_count": 44,
      "outputs": [
        {
          "output_type": "stream",
          "name": "stdout",
          "text": [
            "[  10.           16.68100537   27.82559402   46.41588834   77.42636827\n",
            "  129.1549665   215.443469    359.38136638  599.48425032 1000.        ]\n"
          ]
        }
      ]
    },
    {
      "cell_type": "markdown",
      "source": [
        "30) Найти собственные значения и собственные векторы заданной квадратной матрицы."
      ],
      "metadata": {
        "id": "vm3LTX7PJRl4"
      }
    },
    {
      "cell_type": "code",
      "source": [
        "a = np.arange(9).reshape(3,3)\n",
        "print(a)\n",
        "print(np.linalg.eig(a))"
      ],
      "metadata": {
        "colab": {
          "base_uri": "https://localhost:8080/"
        },
        "id": "Bd6PMxbVJT9n",
        "outputId": "ed87cef5-b5b1-4a76-d395-39a09391352c"
      },
      "execution_count": 46,
      "outputs": [
        {
          "output_type": "stream",
          "name": "stdout",
          "text": [
            "[[0 1 2]\n",
            " [3 4 5]\n",
            " [6 7 8]]\n",
            "EigResult(eigenvalues=array([ 1.33484692e+01, -1.34846923e+00, -2.48477279e-16]), eigenvectors=array([[ 0.16476382,  0.79969966,  0.40824829],\n",
            "       [ 0.50577448,  0.10420579, -0.81649658],\n",
            "       [ 0.84678513, -0.59128809,  0.40824829]]))\n"
          ]
        }
      ]
    },
    {
      "cell_type": "markdown",
      "source": [
        "31) Создать случайную матрицу размером 4x4 и найти определитель.\n"
      ],
      "metadata": {
        "id": "vplMzQxPL4U-"
      }
    },
    {
      "cell_type": "code",
      "source": [
        "a = np.random.randn(16).reshape(4,4)\n",
        "print(a)\n",
        "print(np.linalg.det(a))"
      ],
      "metadata": {
        "colab": {
          "base_uri": "https://localhost:8080/"
        },
        "id": "Syiecgz4L63f",
        "outputId": "24d37602-3f17-4b1d-f27d-a3cc65d5e30a"
      },
      "execution_count": 48,
      "outputs": [
        {
          "output_type": "stream",
          "name": "stdout",
          "text": [
            "[[ 0.40983191  0.80036125 -1.0849753   0.58311893]\n",
            " [ 0.15235498 -0.10013354 -0.00549263  0.27554108]\n",
            " [ 0.05255495  1.19741611 -0.48566423 -0.98475899]\n",
            " [ 1.22306278  0.27725276 -0.30603144  0.38148958]]\n",
            "0.08394900439795304\n"
          ]
        }
      ]
    },
    {
      "cell_type": "markdown",
      "source": [
        "32) Найти общие элементы двух массивов."
      ],
      "metadata": {
        "id": "nvc6oSaCMchL"
      }
    },
    {
      "cell_type": "code",
      "source": [
        "a = np.random.randint(1, 11, 10)\n",
        "print(a)\n",
        "b = np.random.randint(1, 11, 10)\n",
        "print(b)\n",
        "print(np.intersect1d(a,b))"
      ],
      "metadata": {
        "colab": {
          "base_uri": "https://localhost:8080/"
        },
        "id": "jshmvG6WMQi1",
        "outputId": "3ae26315-44e3-43b9-afe9-f55e7163e2fb"
      },
      "execution_count": 50,
      "outputs": [
        {
          "output_type": "stream",
          "name": "stdout",
          "text": [
            "[ 5 10  7  3  1 10  4 10  1  7]\n",
            "[3 7 1 7 7 3 1 6 2 2]\n",
            "[1 3 7]\n"
          ]
        }
      ]
    },
    {
      "cell_type": "markdown",
      "source": [
        "33) Вычислить кумулятивную сумму элементов массива."
      ],
      "metadata": {
        "id": "ncVqekPCMyge"
      }
    },
    {
      "cell_type": "code",
      "source": [
        "a = np.arange(1,10)\n",
        "print(a)\n",
        "print( np.cumsum(a) )"
      ],
      "metadata": {
        "colab": {
          "base_uri": "https://localhost:8080/"
        },
        "id": "73g8gRDsM02I",
        "outputId": "b5ef9145-fdfb-4c4c-aee9-236262552eab"
      },
      "execution_count": 52,
      "outputs": [
        {
          "output_type": "stream",
          "name": "stdout",
          "text": [
            "[1 2 3 4 5 6 7 8 9]\n",
            "[ 1  3  6 10 15 21 28 36 45]\n"
          ]
        }
      ]
    },
    {
      "cell_type": "markdown",
      "source": [
        "34) Найти площадь треугольника, заданного координатами вершин в двумерном массиве."
      ],
      "metadata": {
        "id": "xRwDaMcNNo0n"
      }
    },
    {
      "cell_type": "code",
      "source": [
        "a = np.random.randint(1,10,size=6).reshape(3, 2)\n",
        "print(a)\n",
        "# cross - метод для произведения векторов\n",
        "area = np.linalg.norm(np.cross(a[1] - a[0], a[2] - a[0])) / 2\n",
        "print(area)"
      ],
      "metadata": {
        "colab": {
          "base_uri": "https://localhost:8080/"
        },
        "id": "WdxLG6RyNr2Z",
        "outputId": "72d0bba4-9ead-45e3-e732-02b991d2513d"
      },
      "execution_count": 60,
      "outputs": [
        {
          "output_type": "stream",
          "name": "stdout",
          "text": [
            "[[8 1]\n",
            " [2 9]\n",
            " [3 8]]\n",
            "1.0\n"
          ]
        }
      ]
    },
    {
      "cell_type": "markdown",
      "source": [
        "35) Найти среднее значение каждой строки в двумерном массиве."
      ],
      "metadata": {
        "id": "E42U01c-SKhE"
      }
    },
    {
      "cell_type": "code",
      "source": [
        "means_str = np.mean(a, axis=1)\n",
        "print(means_str)"
      ],
      "metadata": {
        "colab": {
          "base_uri": "https://localhost:8080/"
        },
        "id": "SMcCJmRJSJ0L",
        "outputId": "b1aa904f-d0c7-4159-8b18-0eda606c3707"
      },
      "execution_count": 61,
      "outputs": [
        {
          "output_type": "stream",
          "name": "stdout",
          "text": [
            "[4.5 5.5 5.5]\n"
          ]
        }
      ]
    },
    {
      "cell_type": "markdown",
      "source": [
        "36) Создать диагональную матрицу из заданного одномерного массива."
      ],
      "metadata": {
        "id": "WvMH6PWCSXfa"
      }
    },
    {
      "cell_type": "code",
      "source": [
        "a = np.arange(1,5)\n",
        "print(a, \"\\n\")\n",
        "a_diag = np.diag(a)\n",
        "print(a_diag)"
      ],
      "metadata": {
        "colab": {
          "base_uri": "https://localhost:8080/"
        },
        "id": "4Aw1J2xsSZyz",
        "outputId": "eaa1c85d-3f72-4b8e-92d7-23cb4bfd7c1d"
      },
      "execution_count": 63,
      "outputs": [
        {
          "output_type": "stream",
          "name": "stdout",
          "text": [
            "[1 2 3 4] \n",
            "\n",
            "[[1 0 0 0]\n",
            " [0 2 0 0]\n",
            " [0 0 3 0]\n",
            " [0 0 0 4]]\n"
          ]
        }
      ]
    },
    {
      "cell_type": "markdown",
      "source": [
        "37) Найти среднее значение каждого столбца в двумерном массиве."
      ],
      "metadata": {
        "id": "RiTchcKLSv19"
      }
    },
    {
      "cell_type": "code",
      "source": [
        "a = np.random.randint(1,10,size=6).reshape(3, 2)\n",
        "print(a, \"\\n\")\n",
        "means_col = np.mean(a, axis=0)\n",
        "print(means_col)"
      ],
      "metadata": {
        "colab": {
          "base_uri": "https://localhost:8080/"
        },
        "id": "Iewc2coCS2yj",
        "outputId": "ee10dd66-9622-417f-8d69-5ddc47d73afd"
      },
      "execution_count": 65,
      "outputs": [
        {
          "output_type": "stream",
          "name": "stdout",
          "text": [
            "[[7 5]\n",
            " [1 7]\n",
            " [6 1]] \n",
            "\n",
            "[4.66666667 4.33333333]\n"
          ]
        }
      ]
    },
    {
      "cell_type": "markdown",
      "source": [
        "38) Найти среднее значение вдоль заданной оси в многомерном массиве."
      ],
      "metadata": {
        "id": "Oim2eVUOTCAI"
      }
    },
    {
      "cell_type": "code",
      "source": [
        "a = np.random.rand(2,2,2)\n",
        "ax = 2\n",
        "print(a, \"\\n\\n\")\n",
        "print(np.mean(a, axis=ax))"
      ],
      "metadata": {
        "colab": {
          "base_uri": "https://localhost:8080/"
        },
        "id": "Cy1TZAevTBsU",
        "outputId": "60cd8c9e-8f61-4bcc-a9ca-5f5a727cef4c"
      },
      "execution_count": 70,
      "outputs": [
        {
          "output_type": "stream",
          "name": "stdout",
          "text": [
            "[[[0.73020889 0.55408257]\n",
            "  [0.89283361 0.97026059]]\n",
            "\n",
            " [[0.26837515 0.11860342]\n",
            "  [0.67444839 0.94850821]]] \n",
            "\n",
            "\n",
            "[[0.81152125 0.76217158]\n",
            " [0.47141177 0.53355582]]\n"
          ]
        }
      ]
    },
    {
      "cell_type": "markdown",
      "source": [
        "39) Найти наименьшее значение вдоль заданной оси в многомерном массиве."
      ],
      "metadata": {
        "id": "KcjogVHsT8nB"
      }
    },
    {
      "cell_type": "code",
      "source": [
        "a = np.random.randint(1,10,size=10).reshape(2,5)\n",
        "print(a)\n",
        "ax=0\n",
        "print(np.min(a, axis=ax))"
      ],
      "metadata": {
        "colab": {
          "base_uri": "https://localhost:8080/"
        },
        "id": "woN05e8oUAMg",
        "outputId": "b6c05eed-681b-483f-ede2-9dfbbb526533"
      },
      "execution_count": 72,
      "outputs": [
        {
          "output_type": "stream",
          "name": "stdout",
          "text": [
            "[[8 2 9 4 1]\n",
            " [9 3 2 3 2]]\n",
            "[8 2 2 3 1]\n"
          ]
        }
      ]
    },
    {
      "cell_type": "markdown",
      "source": [
        "40) Найти наибольшее значение вдоль заданной оси в многомерном массиве."
      ],
      "metadata": {
        "id": "JxZ4pYmpUCoQ"
      }
    },
    {
      "cell_type": "code",
      "source": [
        "a = np.random.randint(1,10,size=10).reshape(2,5)\n",
        "print(a)\n",
        "ax=1\n",
        "print(np.max(a, axis=ax))"
      ],
      "metadata": {
        "colab": {
          "base_uri": "https://localhost:8080/"
        },
        "id": "MUONFjhKT_ta",
        "outputId": "840feac4-458b-40a7-e2f4-c5e20f012521"
      },
      "execution_count": 74,
      "outputs": [
        {
          "output_type": "stream",
          "name": "stdout",
          "text": [
            "[[7 4 4 7 7]\n",
            " [1 1 3 6 5]]\n",
            "[7 6]\n"
          ]
        }
      ]
    }
  ]
}