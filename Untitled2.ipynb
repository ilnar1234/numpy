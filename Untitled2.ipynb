{
  "nbformat": 4,
  "nbformat_minor": 0,
  "metadata": {
    "colab": {
      "provenance": [],
      "authorship_tag": "ABX9TyM/RajxZLFlzC0RsUhtB1uT",
      "include_colab_link": true
    },
    "kernelspec": {
      "name": "python3",
      "display_name": "Python 3"
    },
    "language_info": {
      "name": "python"
    }
  },
  "cells": [
    {
      "cell_type": "markdown",
      "metadata": {
        "id": "view-in-github",
        "colab_type": "text"
      },
      "source": [
        "<a href=\"https://colab.research.google.com/github/ilnar1234/numpy/blob/main/Untitled2.ipynb\" target=\"_parent\"><img src=\"https://colab.research.google.com/assets/colab-badge.svg\" alt=\"Open In Colab\"/></a>"
      ]
    },
    {
      "cell_type": "markdown",
      "source": [
        "Numpy для любителей Broadcasting. Решения задач"
      ],
      "metadata": {
        "id": "RwVNoDxtZylS"
      }
    },
    {
      "cell_type": "markdown",
      "source": [
        "1) Создать массив из 10 случайных целых чисел от 1 до 100."
      ],
      "metadata": {
        "id": "pOr4TBDAZ6Gl"
      }
    },
    {
      "cell_type": "code",
      "execution_count": 2,
      "metadata": {
        "colab": {
          "base_uri": "https://localhost:8080/"
        },
        "id": "o0_NUmQPW7_e",
        "outputId": "0cb387e7-b2dd-45d1-8da5-983ae2f5ff45"
      },
      "outputs": [
        {
          "output_type": "stream",
          "name": "stdout",
          "text": [
            "1\n",
            " [35 20  1 95 27 71 96 45 59 32]\n"
          ]
        }
      ],
      "source": [
        "import numpy as np\n",
        "\n",
        "a = np.random.randint(1, 100, 10)\n",
        "print(\"1\\n\", a)\n"
      ]
    },
    {
      "cell_type": "markdown",
      "source": [
        "2) Создать двумерный массив размером 3x3, заполненный нулями."
      ],
      "metadata": {
        "id": "HN1dd8GFZwDL"
      }
    },
    {
      "cell_type": "code",
      "source": [
        "a = np.zeros((3,3))\n",
        "print(\"2\\n\", a)"
      ],
      "metadata": {
        "colab": {
          "base_uri": "https://localhost:8080/"
        },
        "id": "c28DjBZMaC-g",
        "outputId": "02e05142-30a9-4e8d-8777-fe968664f033"
      },
      "execution_count": 17,
      "outputs": [
        {
          "output_type": "stream",
          "name": "stdout",
          "text": [
            "2\n",
            " [[0. 0. 0.]\n",
            " [0. 0. 0.]\n",
            " [0. 0. 0.]]\n"
          ]
        }
      ]
    },
    {
      "cell_type": "markdown",
      "source": [
        "3) Создать массив из 20 равномерно распределенных чисел между 0 и 1.\n",
        "(в моем решении массив состоит из 20 равномерно распределенных чисел из нормального распределения со средним 0 и стандартным отклонением 1)"
      ],
      "metadata": {
        "id": "7zKes75FaJqW"
      }
    },
    {
      "cell_type": "code",
      "source": [
        "a = np.random.normal(0, 1, 20)\n",
        "print(a)"
      ],
      "metadata": {
        "colab": {
          "base_uri": "https://localhost:8080/"
        },
        "id": "n5eOV3flaNw8",
        "outputId": "8032c3f4-107c-4e98-abbd-53d539f11404"
      },
      "execution_count": 21,
      "outputs": [
        {
          "output_type": "stream",
          "name": "stdout",
          "text": [
            "[1.08160333 0.15564605 0.84993891 0.49985624 0.22610683 0.7457167\n",
            " 0.628603   1.02558962 0.37514798 0.46224645 0.62286503 0.72425614\n",
            " 0.54909777 0.39951976 0.79342883 0.94326404 0.23426654 0.98645838\n",
            " 0.51875678 0.59633043]\n"
          ]
        }
      ]
    },
    {
      "cell_type": "markdown",
      "source": [
        "4) Создать массив из первых 10 натуральных чисел и преобразовать его в двумерный массив размером 2x5."
      ],
      "metadata": {
        "id": "b9C692Budseg"
      }
    },
    {
      "cell_type": "code",
      "source": [
        "a = np.arange(1, 11, 1).reshape((2, 5))\n",
        "print(a)"
      ],
      "metadata": {
        "colab": {
          "base_uri": "https://localhost:8080/"
        },
        "id": "cr_xSAMNeVzE",
        "outputId": "0dbe637e-a3d6-45fe-89f6-78cd251d6026"
      },
      "execution_count": 24,
      "outputs": [
        {
          "output_type": "stream",
          "name": "stdout",
          "text": [
            "[[ 1  2  3  4  5]\n",
            " [ 6  7  8  9 10]]\n"
          ]
        }
      ]
    },
    {
      "cell_type": "markdown",
      "source": [
        "5) Найти среднее значение элементов массива.\n"
      ],
      "metadata": {
        "id": "nPKQPHtxeoJ3"
      }
    },
    {
      "cell_type": "code",
      "source": [
        "print(np.mean(a))"
      ],
      "metadata": {
        "colab": {
          "base_uri": "https://localhost:8080/"
        },
        "id": "3Y4izACNeq0H",
        "outputId": "8a08a432-7571-4b67-a4e4-4d80f6457303"
      },
      "execution_count": 25,
      "outputs": [
        {
          "output_type": "stream",
          "name": "stdout",
          "text": [
            "5.5\n"
          ]
        }
      ]
    },
    {
      "cell_type": "markdown",
      "source": [
        "6) Найти сумму элементов массива"
      ],
      "metadata": {
        "id": "hUVLfH-AfDuo"
      }
    },
    {
      "cell_type": "code",
      "source": [
        "print(np.sum(a))"
      ],
      "metadata": {
        "colab": {
          "base_uri": "https://localhost:8080/"
        },
        "id": "otzijQbcfH2Y",
        "outputId": "5cc285a3-7df1-4188-d6c7-65018c44b057"
      },
      "execution_count": 26,
      "outputs": [
        {
          "output_type": "stream",
          "name": "stdout",
          "text": [
            "55\n"
          ]
        }
      ]
    },
    {
      "cell_type": "markdown",
      "source": [
        "7) Умножить каждый элемент массива на 2."
      ],
      "metadata": {
        "id": "3HCSOB__fMg_"
      }
    },
    {
      "cell_type": "code",
      "source": [
        "print(a * 2)"
      ],
      "metadata": {
        "colab": {
          "base_uri": "https://localhost:8080/"
        },
        "id": "jVQEkIAefPkU",
        "outputId": "befe1d7c-f4a6-475c-b995-531e328533a0"
      },
      "execution_count": 27,
      "outputs": [
        {
          "output_type": "stream",
          "name": "stdout",
          "text": [
            "[[ 2  4  6  8 10]\n",
            " [12 14 16 18 20]]\n"
          ]
        }
      ]
    },
    {
      "cell_type": "markdown",
      "source": [
        "8) Создать массив из чисел от 1 до 10 и преобразовать его в двумерный массив размером 5x2."
      ],
      "metadata": {
        "id": "fRqgwAi-fS9a"
      }
    },
    {
      "cell_type": "code",
      "source": [
        "a = np.arange(1, 11).reshape((5, 2))\n",
        "print(a)"
      ],
      "metadata": {
        "colab": {
          "base_uri": "https://localhost:8080/"
        },
        "id": "hW4X_R1BfSqA",
        "outputId": "e56a2772-e46d-480e-e1f8-7fd557f7bc4e"
      },
      "execution_count": 28,
      "outputs": [
        {
          "output_type": "stream",
          "name": "stdout",
          "text": [
            "[[ 1  2]\n",
            " [ 3  4]\n",
            " [ 5  6]\n",
            " [ 7  8]\n",
            " [ 9 10]]\n"
          ]
        }
      ]
    },
    {
      "cell_type": "markdown",
      "source": [
        "9) Найти минимальное значение в массиве."
      ],
      "metadata": {
        "id": "KLE4kngqlRUC"
      }
    },
    {
      "cell_type": "code",
      "source": [
        "print(np.min(a))"
      ],
      "metadata": {
        "colab": {
          "base_uri": "https://localhost:8080/"
        },
        "id": "Sm7JR7eqlUON",
        "outputId": "ac42dfbe-197b-4035-c782-a82f87b9f02d"
      },
      "execution_count": 29,
      "outputs": [
        {
          "output_type": "stream",
          "name": "stdout",
          "text": [
            "1\n"
          ]
        }
      ]
    },
    {
      "cell_type": "markdown",
      "source": [
        "10) Найти максимальное значение в массиве."
      ],
      "metadata": {
        "id": "eAw8mMZqlW5y"
      }
    },
    {
      "cell_type": "code",
      "source": [
        "print(np.max(a))"
      ],
      "metadata": {
        "colab": {
          "base_uri": "https://localhost:8080/"
        },
        "id": "9ZuS2cQjlZYX",
        "outputId": "92a2b6a7-95b6-4820-c33e-aca9408c6da7"
      },
      "execution_count": 30,
      "outputs": [
        {
          "output_type": "stream",
          "name": "stdout",
          "text": [
            "10\n"
          ]
        }
      ]
    },
    {
      "cell_type": "markdown",
      "source": [
        "11) Создать массив из 15 случайных чисел, отсортировать его по возрастанию."
      ],
      "metadata": {
        "id": "03DIGYzYlhDe"
      }
    },
    {
      "cell_type": "code",
      "source": [
        "a = np.random.rand(15)\n",
        "print(a)"
      ],
      "metadata": {
        "colab": {
          "base_uri": "https://localhost:8080/"
        },
        "id": "p-oGp8Z7ljDI",
        "outputId": "5fd5b756-092d-45df-fbd1-73fc0d850071"
      },
      "execution_count": 34,
      "outputs": [
        {
          "output_type": "stream",
          "name": "stdout",
          "text": [
            "[0.4425742  0.95510666 0.89496004 0.25943475 0.56324084 0.23013389\n",
            " 0.00683824 0.9857125  0.06926516 0.24551746 0.31125813 0.35386711\n",
            " 0.53739777 0.84291506 0.66364084]\n"
          ]
        }
      ]
    },
    {
      "cell_type": "markdown",
      "source": [
        "12) Создать массив из чисел от 1 до 12 и преобразовать его в трехмерный массив размером 2x2x3."
      ],
      "metadata": {
        "id": "87WPgyTkl7A6"
      }
    },
    {
      "cell_type": "code",
      "source": [
        "a = np.arange(1,13).reshape((2,2,3))\n",
        "print(a)"
      ],
      "metadata": {
        "colab": {
          "base_uri": "https://localhost:8080/"
        },
        "id": "gDLt50n4l9Fk",
        "outputId": "bca22954-cf66-4083-b6af-a703102f5224"
      },
      "execution_count": 36,
      "outputs": [
        {
          "output_type": "stream",
          "name": "stdout",
          "text": [
            "[[[ 1  2  3]\n",
            "  [ 4  5  6]]\n",
            "\n",
            " [[ 7  8  9]\n",
            "  [10 11 12]]]\n"
          ]
        }
      ]
    },
    {
      "cell_type": "markdown",
      "source": [
        "13) Перемножить два массива размером 2x3 и 3x2.\n"
      ],
      "metadata": {
        "id": "rwtPaHwSmIHe"
      }
    },
    {
      "cell_type": "code",
      "source": [
        "a = np.arange(1,7).reshape((2,3))\n",
        "print(a)\n",
        "b = np.arange(1,7).reshape((3,2))\n",
        "print(b)\n",
        "print(a @ b)\n"
      ],
      "metadata": {
        "colab": {
          "base_uri": "https://localhost:8080/"
        },
        "id": "hRvw_RAmmLxv",
        "outputId": "05f4b15f-4b46-4333-b9eb-c4ed0e02c61f"
      },
      "execution_count": 40,
      "outputs": [
        {
          "output_type": "stream",
          "name": "stdout",
          "text": [
            "[[1 2 3]\n",
            " [4 5 6]]\n",
            "[[1 2]\n",
            " [3 4]\n",
            " [5 6]]\n",
            "[[22 28]\n",
            " [49 64]]\n"
          ]
        }
      ]
    },
    {
      "cell_type": "markdown",
      "source": [
        "14) Транспонировать двумерный массив."
      ],
      "metadata": {
        "id": "Iim_Y5I9nIf-"
      }
    },
    {
      "cell_type": "code",
      "source": [
        "print(a.T)"
      ],
      "metadata": {
        "colab": {
          "base_uri": "https://localhost:8080/"
        },
        "id": "PPufcla0nK7N",
        "outputId": "ee199d96-724e-4bc6-d201-42fb05caf569"
      },
      "execution_count": 42,
      "outputs": [
        {
          "output_type": "stream",
          "name": "stdout",
          "text": [
            "[[1 4]\n",
            " [2 5]\n",
            " [3 6]]\n"
          ]
        }
      ]
    },
    {
      "cell_type": "markdown",
      "source": [
        "15) Найти скалярное произведение двух массивов."
      ],
      "metadata": {
        "id": "TfXu4cRtnhDj"
      }
    },
    {
      "cell_type": "code",
      "source": [
        "a = np.arange(10)\n",
        "b = np.arange(10)\n",
        "print(a @ b)"
      ],
      "metadata": {
        "colab": {
          "base_uri": "https://localhost:8080/"
        },
        "id": "sSO02g3CnjN7",
        "outputId": "2157664f-a083-4730-e563-6d7209ba0f9b"
      },
      "execution_count": 44,
      "outputs": [
        {
          "output_type": "stream",
          "name": "stdout",
          "text": [
            "285\n"
          ]
        }
      ]
    },
    {
      "cell_type": "markdown",
      "source": [
        "16) Создать массив из чисел от 1 до 20 и заменить все четные числа на 0.\n"
      ],
      "metadata": {
        "id": "_kxlQeuIn_PR"
      }
    },
    {
      "cell_type": "code",
      "source": [
        "a = np.arange(21)\n",
        "a[ a % 2 == 0 ] = 0\n",
        "print(a)"
      ],
      "metadata": {
        "colab": {
          "base_uri": "https://localhost:8080/"
        },
        "id": "b6ZJB2W9oCrB",
        "outputId": "b28b205c-499a-4ed5-e0e1-9b98097ec941"
      },
      "execution_count": 3,
      "outputs": [
        {
          "output_type": "stream",
          "name": "stdout",
          "text": [
            "[ 0  1  0  3  0  5  0  7  0  9  0 11  0 13  0 15  0 17  0 19  0]\n"
          ]
        }
      ]
    },
    {
      "cell_type": "markdown",
      "source": [
        "17) Найти индексы ненулевых элементов массива."
      ],
      "metadata": {
        "id": "Jq-44PFeorFq"
      }
    },
    {
      "cell_type": "code",
      "source": [
        "print(np.where( a != 0 ))"
      ],
      "metadata": {
        "colab": {
          "base_uri": "https://localhost:8080/"
        },
        "id": "kDjpLc-poCKW",
        "outputId": "a7ee1277-34cb-4e93-834b-85aad341c9bf"
      },
      "execution_count": 6,
      "outputs": [
        {
          "output_type": "stream",
          "name": "stdout",
          "text": [
            "(array([ 1,  3,  5,  7,  9, 11, 13, 15, 17, 19]),)\n"
          ]
        }
      ]
    },
    {
      "cell_type": "markdown",
      "source": [
        "18) Вычислить синус каждого элемента массива.\n"
      ],
      "metadata": {
        "id": "Dp6zw4oUtC2r"
      }
    },
    {
      "cell_type": "code",
      "source": [
        "print(np.sin(a))"
      ],
      "metadata": {
        "colab": {
          "base_uri": "https://localhost:8080/"
        },
        "id": "54QKrfyctE2C",
        "outputId": "3506f93c-8e58-42d2-9f26-4dacd8afaac7"
      },
      "execution_count": 7,
      "outputs": [
        {
          "output_type": "stream",
          "name": "stdout",
          "text": [
            "[ 0.          0.84147098  0.          0.14112001  0.         -0.95892427\n",
            "  0.          0.6569866   0.          0.41211849  0.         -0.99999021\n",
            "  0.          0.42016704  0.          0.65028784  0.         -0.96139749\n",
            "  0.          0.14987721  0.        ]\n"
          ]
        }
      ]
    },
    {
      "cell_type": "markdown",
      "source": [
        "19) Вычислить среднее значение по столбцам двумерного массива."
      ],
      "metadata": {
        "id": "HQZbuaCutmc9"
      }
    },
    {
      "cell_type": "code",
      "source": [
        "a = np.arange(10).reshape((2,5))\n",
        "print(a)\n",
        "print(np.mean(a, axis=0))"
      ],
      "metadata": {
        "colab": {
          "base_uri": "https://localhost:8080/"
        },
        "id": "Pye3cU4Itl7q",
        "outputId": "0c60a99c-2004-4c5d-b14b-883d7cee69c9"
      },
      "execution_count": 17,
      "outputs": [
        {
          "output_type": "stream",
          "name": "stdout",
          "text": [
            "[[0 1 2 3 4]\n",
            " [5 6 7 8 9]]\n",
            "[2.5 3.5 4.5 5.5 6.5]\n"
          ]
        }
      ]
    },
    {
      "cell_type": "markdown",
      "source": [
        "20) Найти сумму диагональных элементов квадратной матрицы.\n"
      ],
      "metadata": {
        "id": "X6ar2_rPw6kC"
      }
    },
    {
      "cell_type": "code",
      "source": [
        "a = np.arange(9).reshape(3, 3)\n",
        "print(a)\n",
        "print(a.trace())"
      ],
      "metadata": {
        "colab": {
          "base_uri": "https://localhost:8080/"
        },
        "id": "nCfJR4xSw98i",
        "outputId": "dd327889-2881-4f17-b9ca-7b1d18fc3eef"
      },
      "execution_count": 21,
      "outputs": [
        {
          "output_type": "stream",
          "name": "stdout",
          "text": [
            "[[0 1 2]\n",
            " [3 4 5]\n",
            " [6 7 8]]\n",
            "12\n"
          ]
        }
      ]
    },
    {
      "cell_type": "markdown",
      "source": [
        "21) Создать массив из 25 случайных чисел и найти 5-й персентиль.\n"
      ],
      "metadata": {
        "id": "H6i1A_wvxj_2"
      }
    },
    {
      "cell_type": "code",
      "source": [
        "a = np.random.randint(0, 100, 25)\n",
        "print(a)\n",
        "print(np.percentile(a, 50))"
      ],
      "metadata": {
        "colab": {
          "base_uri": "https://localhost:8080/"
        },
        "id": "2_9scg5Mxmvq",
        "outputId": "b24246b2-22df-4be6-f38e-b323b7665c8d"
      },
      "execution_count": 39,
      "outputs": [
        {
          "output_type": "stream",
          "name": "stdout",
          "text": [
            "[96 96 40 69 58 32 51 59 10 48 56 25 67 71 83 61 65  5 73 26 45 69 67 16\n",
            " 78]\n",
            "59.0\n"
          ]
        }
      ]
    },
    {
      "cell_type": "markdown",
      "source": [
        "22) Найти обратную матрицу для заданной.\n"
      ],
      "metadata": {
        "id": "FnAK1nHyyYSF"
      }
    },
    {
      "cell_type": "code",
      "source": [
        "a = np.random.randint(0, 10, 9).reshape(3, 3)\n",
        "print(a)\n",
        "print(np.linalg.inv(a))"
      ],
      "metadata": {
        "colab": {
          "base_uri": "https://localhost:8080/"
        },
        "id": "FAXJYpVjyatO",
        "outputId": "35872815-5d41-4ede-9358-a8ac809d7682"
      },
      "execution_count": 47,
      "outputs": [
        {
          "output_type": "stream",
          "name": "stdout",
          "text": [
            "[[3 0 7]\n",
            " [2 8 7]\n",
            " [2 7 2]]\n",
            "[[ 0.2920354  -0.43362832  0.49557522]\n",
            " [-0.08849558  0.07079646  0.0619469 ]\n",
            " [ 0.01769912  0.18584071 -0.21238938]]\n"
          ]
        }
      ]
    },
    {
      "cell_type": "markdown",
      "source": [
        "23) Разбить массив на несколько более мелких массивов заданного размера."
      ],
      "metadata": {
        "id": "mBHYPOSXzlpS"
      }
    },
    {
      "cell_type": "code",
      "source": [
        "[a1,a2,a3] = np.hsplit(a, 3)\n",
        "print(a1, \"\\n\")\n",
        "print(a2, \"\\n\")\n",
        "print(a3, \"\\n\\n\")\n",
        "\n",
        "[a1,a2,a3] = np.vsplit(a, 3)\n",
        "print(a1, \"\\n\")\n",
        "print(a2, \"\\n\")\n",
        "print(a3, \"\\n\\n\")"
      ],
      "metadata": {
        "colab": {
          "base_uri": "https://localhost:8080/"
        },
        "id": "6y9-ujbEznq7",
        "outputId": "87b65244-40c0-447f-e823-b490f6aa4335"
      },
      "execution_count": 52,
      "outputs": [
        {
          "output_type": "stream",
          "name": "stdout",
          "text": [
            "[[3]\n",
            " [2]\n",
            " [2]] \n",
            "\n",
            "[[0]\n",
            " [8]\n",
            " [7]] \n",
            "\n",
            "[[7]\n",
            " [7]\n",
            " [2]] \n",
            "\n",
            "\n",
            "[[3 0 7]] \n",
            "\n",
            "[[2 8 7]] \n",
            "\n",
            "[[2 7 2]] \n",
            "\n",
            "\n"
          ]
        }
      ]
    },
    {
      "cell_type": "markdown",
      "source": [
        "24) Найти самое часто встречающееся значение в массиве.\n"
      ],
      "metadata": {
        "id": "Bvn6YVjz0067"
      }
    },
    {
      "cell_type": "code",
      "source": [
        "a = np.ravel(a)\n",
        "counts = np.bincount(a)\n",
        "print(np.argmax(counts))"
      ],
      "metadata": {
        "colab": {
          "base_uri": "https://localhost:8080/"
        },
        "id": "1thNAfTL03RX",
        "outputId": "26d398cc-9d82-46c7-a5ca-07ab04ac048a"
      },
      "execution_count": 60,
      "outputs": [
        {
          "output_type": "stream",
          "name": "stdout",
          "text": [
            "2\n"
          ]
        }
      ]
    },
    {
      "cell_type": "markdown",
      "source": [
        "25) Создать массив, содержащий значения функции e^x для значений x от 1 до 5."
      ],
      "metadata": {
        "id": "1gaEfOvf2qHD"
      }
    },
    {
      "cell_type": "code",
      "source": [
        "a = np.exp(np.arange(1,6))\n",
        "print(a)"
      ],
      "metadata": {
        "colab": {
          "base_uri": "https://localhost:8080/"
        },
        "id": "7nU4VFMB2vDY",
        "outputId": "0fef65df-a5be-45f2-8ae8-3392ad9b58cc"
      },
      "execution_count": 61,
      "outputs": [
        {
          "output_type": "stream",
          "name": "stdout",
          "text": [
            "[  2.71828183   7.3890561   20.08553692  54.59815003 148.4131591 ]\n"
          ]
        }
      ]
    }
  ]
}